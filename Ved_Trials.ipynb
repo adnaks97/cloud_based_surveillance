{
 "cells": [
  {
   "cell_type": "code",
   "execution_count": 4,
   "metadata": {},
   "outputs": [
    {
     "name": "stdout",
     "output_type": "stream",
     "text": [
      "The autoreload extension is already loaded. To reload it, use:\n",
      "  %reload_ext autoreload\n"
     ]
    }
   ],
   "source": [
    "%load_ext autoreload\n",
    "%autoreload 2"
   ]
  },
  {
   "cell_type": "code",
   "execution_count": 73,
   "metadata": {},
   "outputs": [],
   "source": [
    "# -1 - off\n",
    "#  0 - free\n",
    "#  1 - full\n",
    "\n",
    "instance_usage = {\n",
    "                    'ec2_1': 1,\n",
    "                    'ec2_2': -1,\n",
    "                    'ec2_3': -1,\n",
    "                    'ec2_4': -1,\n",
    "                    'ec2_5': -1\n",
    "}"
   ]
  },
  {
   "cell_type": "code",
   "execution_count": 90,
   "metadata": {},
   "outputs": [],
   "source": [
    "from aws.AWS import AWSClient, queue_url, bucket\n",
    "aws = AWSClient(auth=True)"
   ]
  },
  {
   "cell_type": "code",
   "execution_count": 120,
   "metadata": {},
   "outputs": [],
   "source": [
    "response = aws.ec2_client.describe_instances()"
   ]
  },
  {
   "cell_type": "code",
   "execution_count": 134,
   "metadata": {
    "scrolled": true
   },
   "outputs": [
    {
     "data": {
      "text/plain": [
       "{'Groups': [],\n",
       " 'Instances': [{'AmiLaunchIndex': 0,\n",
       "   'ImageId': 'ami-0903fd482d7208724',\n",
       "   'InstanceId': 'i-0912a5fdc78485f46',\n",
       "   'InstanceType': 't2.micro',\n",
       "   'KeyName': 'cse546',\n",
       "   'LaunchTime': datetime.datetime(2020, 3, 19, 0, 55, 53, tzinfo=tzutc()),\n",
       "   'Monitoring': {'State': 'disabled'},\n",
       "   'Placement': {'AvailabilityZone': 'us-east-1c',\n",
       "    'GroupName': '',\n",
       "    'Tenancy': 'default'},\n",
       "   'PrivateDnsName': 'ip-172-31-86-147.ec2.internal',\n",
       "   'PrivateIpAddress': '172.31.86.147',\n",
       "   'ProductCodes': [],\n",
       "   'PublicDnsName': 'ec2-52-91-67-199.compute-1.amazonaws.com',\n",
       "   'PublicIpAddress': '52.91.67.199',\n",
       "   'State': {'Code': 16, 'Name': 'running'},\n",
       "   'StateTransitionReason': '',\n",
       "   'SubnetId': 'subnet-faa442db',\n",
       "   'VpcId': 'vpc-6f2c1815',\n",
       "   'Architecture': 'x86_64',\n",
       "   'BlockDeviceMappings': [{'DeviceName': '/dev/sda1',\n",
       "     'Ebs': {'AttachTime': datetime.datetime(2020, 3, 11, 4, 0, 29, tzinfo=tzutc()),\n",
       "      'DeleteOnTermination': True,\n",
       "      'Status': 'attached',\n",
       "      'VolumeId': 'vol-0067f727b898f2a58'}}],\n",
       "   'ClientToken': '',\n",
       "   'EbsOptimized': False,\n",
       "   'EnaSupport': True,\n",
       "   'Hypervisor': 'xen',\n",
       "   'IamInstanceProfile': {'Arn': 'arn:aws:iam::684896435815:instance-profile/S3FullAccess',\n",
       "    'Id': 'AIPAZ65YCHZT2XCP6WPW3'},\n",
       "   'NetworkInterfaces': [{'Association': {'IpOwnerId': 'amazon',\n",
       "      'PublicDnsName': 'ec2-52-91-67-199.compute-1.amazonaws.com',\n",
       "      'PublicIp': '52.91.67.199'},\n",
       "     'Attachment': {'AttachTime': datetime.datetime(2020, 3, 11, 4, 0, 28, tzinfo=tzutc()),\n",
       "      'AttachmentId': 'eni-attach-0457d4200f97f13d5',\n",
       "      'DeleteOnTermination': True,\n",
       "      'DeviceIndex': 0,\n",
       "      'Status': 'attached'},\n",
       "     'Description': '',\n",
       "     'Groups': [{'GroupName': 'launch-wizard-2',\n",
       "       'GroupId': 'sg-0fbb8c1bdac104da0'}],\n",
       "     'Ipv6Addresses': [],\n",
       "     'MacAddress': '12:cd:6a:cc:f0:d5',\n",
       "     'NetworkInterfaceId': 'eni-053f3ac29da189de3',\n",
       "     'OwnerId': '684896435815',\n",
       "     'PrivateDnsName': 'ip-172-31-86-147.ec2.internal',\n",
       "     'PrivateIpAddress': '172.31.86.147',\n",
       "     'PrivateIpAddresses': [{'Association': {'IpOwnerId': 'amazon',\n",
       "        'PublicDnsName': 'ec2-52-91-67-199.compute-1.amazonaws.com',\n",
       "        'PublicIp': '52.91.67.199'},\n",
       "       'Primary': True,\n",
       "       'PrivateDnsName': 'ip-172-31-86-147.ec2.internal',\n",
       "       'PrivateIpAddress': '172.31.86.147'}],\n",
       "     'SourceDestCheck': True,\n",
       "     'Status': 'in-use',\n",
       "     'SubnetId': 'subnet-faa442db',\n",
       "     'VpcId': 'vpc-6f2c1815',\n",
       "     'InterfaceType': 'interface'}],\n",
       "   'RootDeviceName': '/dev/sda1',\n",
       "   'RootDeviceType': 'ebs',\n",
       "   'SecurityGroups': [{'GroupName': 'launch-wizard-2',\n",
       "     'GroupId': 'sg-0fbb8c1bdac104da0'}],\n",
       "   'SourceDestCheck': True,\n",
       "   'VirtualizationType': 'hvm',\n",
       "   'CpuOptions': {'CoreCount': 1, 'ThreadsPerCore': 1},\n",
       "   'CapacityReservationSpecification': {'CapacityReservationPreference': 'open'},\n",
       "   'HibernationOptions': {'Configured': False},\n",
       "   'MetadataOptions': {'State': 'applied',\n",
       "    'HttpTokens': 'optional',\n",
       "    'HttpPutResponseHopLimit': 1,\n",
       "    'HttpEndpoint': 'enabled'}}],\n",
       " 'OwnerId': '684896435815',\n",
       " 'ReservationId': 'r-0ce5606914da11ccf'}"
      ]
     },
     "execution_count": 134,
     "metadata": {},
     "output_type": "execute_result"
    }
   ],
   "source": [
    "response['Reservations'][0]"
   ]
  },
  {
   "cell_type": "code",
   "execution_count": 115,
   "metadata": {},
   "outputs": [],
   "source": [
    "def upload_python_object(key,obj):\n",
    "    aws.s3_client.put_object(Bucket=bucket,Key=key,Body=pickle.dumps(obj))"
   ]
  },
  {
   "cell_type": "code",
   "execution_count": 116,
   "metadata": {},
   "outputs": [],
   "source": [
    "upload_python_object(\"Status\",instance_usage)"
   ]
  },
  {
   "cell_type": "code",
   "execution_count": 117,
   "metadata": {},
   "outputs": [
    {
     "data": {
      "text/plain": [
       "{'ec2_1': 1, 'ec2_2': -1, 'ec2_3': -1, 'ec2_4': -1, 'ec2_5': -1}"
      ]
     },
     "execution_count": 117,
     "metadata": {},
     "output_type": "execute_result"
    }
   ],
   "source": [
    "import pickle\n",
    "object = aws.s3_client.get_object(Bucket=bucket,Key=\"Status\")\n",
    "serializedObject = object['Body'].read()\n",
    "pickle.loads(serializedObject)"
   ]
  }
 ],
 "metadata": {
  "kernelspec": {
   "display_name": "Python 3",
   "language": "python",
   "name": "python3"
  },
  "language_info": {
   "codemirror_mode": {
    "name": "ipython",
    "version": 3
   },
   "file_extension": ".py",
   "mimetype": "text/x-python",
   "name": "python",
   "nbconvert_exporter": "python",
   "pygments_lexer": "ipython3",
   "version": "3.7.3"
  }
 },
 "nbformat": 4,
 "nbformat_minor": 2
}
