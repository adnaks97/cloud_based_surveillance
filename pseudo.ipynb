{
 "cells": [
  {
   "cell_type": "code",
   "execution_count": 7,
   "metadata": {},
   "outputs": [
    {
     "name": "stdout",
     "output_type": "stream",
     "text": [
      "The autoreload extension is already loaded. To reload it, use:\n",
      "  %reload_ext autoreload\n"
     ]
    }
   ],
   "source": [
    "from concurrent.futures import ThreadPoolExecutor\n",
    "from aws.AWS import AWSClient, bucket, queue_url\n",
    "from time import sleep\n",
    "import psutil\n",
    "import os\n",
    "import glob\n",
    "%load_ext autoreload\n",
    "%autoreload 2"
   ]
  },
  {
   "cell_type": "code",
   "execution_count": 2,
   "metadata": {},
   "outputs": [],
   "source": [
    "def check_all_threads_complete(futures):\n",
    "    for i,future in enumerate(futures):\n",
    "        if future.done():\n",
    "            futures.pop(i)\n",
    "            ctr += 1\n",
    "    return (ctr ==len(futures))"
   ]
  },
  {
   "cell_type": "code",
   "execution_count": 3,
   "metadata": {},
   "outputs": [],
   "source": [
    "def run_darknet(video_path, output_path):\n",
    "    darknet_dir = \"../darknet/\"\n",
    "    os.chdir(darknet_dir)\n",
    "    if os.path.exists(output_path):\n",
    "        os.remove(output_path)\n",
    "    cmd = \"./darknet detector demo cfg/coco.data cfg/yolov3-tiny.cfg yolov3-tiny.weights {} >> {}\"\n",
    "    os.system(cmd.format(video_path, output_path))"
   ]
  },
  {
   "cell_type": "code",
   "execution_count": 4,
   "metadata": {},
   "outputs": [
    {
     "ename": "NameError",
     "evalue": "name 'aws' is not defined",
     "output_type": "error",
     "traceback": [
      "\u001b[0;31m---------------------------------------------------------------------------\u001b[0m",
      "\u001b[0;31mNameError\u001b[0m                                 Traceback (most recent call last)",
      "\u001b[0;32m<ipython-input-4-9f7c6eb9ed95>\u001b[0m in \u001b[0;36m<module>\u001b[0;34m\u001b[0m\n\u001b[0;32m----> 1\u001b[0;31m \u001b[0minstance_status\u001b[0m \u001b[0;34m=\u001b[0m \u001b[0maws\u001b[0m\u001b[0;34m.\u001b[0m\u001b[0mget_python_object_s3\u001b[0m\u001b[0;34m(\u001b[0m\u001b[0mbucket\u001b[0m\u001b[0;34m,\u001b[0m \u001b[0;34m'status'\u001b[0m\u001b[0;34m)\u001b[0m\u001b[0;34m\u001b[0m\u001b[0;34m\u001b[0m\u001b[0m\n\u001b[0m",
      "\u001b[0;31mNameError\u001b[0m: name 'aws' is not defined"
     ]
    }
   ],
   "source": []
  },
  {
   "cell_type": "code",
   "execution_count": 19,
   "metadata": {},
   "outputs": [
    {
     "data": {
      "text/plain": [
       "True"
      ]
     },
     "execution_count": 19,
     "metadata": {},
     "output_type": "execute_result"
    }
   ],
   "source": [
    "pool = ThreadPoolExecutor(3)\n",
    "futures = []\n",
    "aws = AWSClient(auth=True)\n",
    "instance_status = aws.get_python_object_s3(bucket, 'status')\n",
    "InstID = 'i-017231cbb330871ed'\n",
    "#if InstID not in instance_status.keys():\n",
    "instance_status[InstID] = -1\n",
    "\n",
    "flag = 0\n",
    "aws.put_python_object_s3(bucket, 'status', instance_status)"
   ]
  },
  {
   "cell_type": "code",
   "execution_count": null,
   "metadata": {},
   "outputs": [],
   "source": [
    "while(True):\n",
    "    #do we need to limit the number of threads as well\n",
    "    proc_usage = (psutil.cpu_percent() +  psutil.cpu_percent() +  psutil.cpu_percent())/3.0\n",
    "    if(proc_usage >= 80 ):\n",
    "        #set flag=1 for instance = InstID in S3\n",
    "        flag = 1\n",
    "        #add_message_to_queue(current_instance_id,instance_queue_url)\n",
    "    if aws.get_queue_length(queue_url) == 0:\n",
    "        if(check_all_threads_complete(futures)):\n",
    "            #set flag=-1 for instance = InstID in S3\n",
    "            flag=-1\n",
    "            instance_status[InstID] = -1\n",
    "            aws.put_python_object_s3(bucket, 'status', instance_status)\n",
    "            aws.switch_off_ec2_instance(InstID)\n",
    "            #ec2.instances.filter(InstanceIds=InstID).stop()\n",
    "    else:\n",
    "        video_name = aws.get_message_sqs_download_video_from_s3(bucket, queue_url)\n",
    "        video_name = os.getcwd() + '/' + video_name\n",
    "        ouput_file = os.getcwd() + '/' + video_name.split('/')[1].split('.')[0] + '.txt'\n",
    "        future = pool.submit(run_darknet, video_name, output_file)\n",
    "        futures.append(future)\n",
    "        #send_video_to_sqs_s3('sample.h264',s3_bucket_name,queue_url)\n",
    "        #for i in range(1,5):\n",
    "        print('submitted')"
   ]
  },
  {
   "cell_type": "code",
   "execution_count": 49,
   "metadata": {},
   "outputs": [
    {
     "data": {
      "text/plain": [
       "'bird'"
      ]
     },
     "execution_count": 49,
     "metadata": {},
     "output_type": "execute_result"
    }
   ],
   "source": [
    "aws.get_python_object_s3(bucket, 'output/2020-03-27_20-31-13.h264')"
   ]
  },
  {
   "cell_type": "code",
   "execution_count": 60,
   "metadata": {},
   "outputs": [
    {
     "data": {
      "text/plain": [
       "{'i-0f7ef001ba37a53fc': -1,\n",
       " 'i-004f91d178feb2dd9': 1,\n",
       " 'i-038007690f166efc8': -1,\n",
       " 'i-03a0cc5a88c554d48': -1,\n",
       " 'i-03f222747002d442d': -1,\n",
       " 'i-09c6ccb85c393bb36': -1,\n",
       " 'i-0f5327a4feffe15d8': -1,\n",
       " 'i-0c53a48e5ac876ecf': -1,\n",
       " 'i-017231cbb330871ed': -1}"
      ]
     },
     "execution_count": 60,
     "metadata": {},
     "output_type": "execute_result"
    }
   ],
   "source": [
    "aws.get_python_object_s3(bucket, 'status')"
   ]
  },
  {
   "cell_type": "code",
   "execution_count": 16,
   "metadata": {},
   "outputs": [
    {
     "data": {
      "text/plain": [
       "True"
      ]
     },
     "execution_count": 16,
     "metadata": {},
     "output_type": "execute_result"
    }
   ],
   "source": [
    "a = {\n",
    " 'i-017231cbb330871ed': -1,\n",
    " 'i-06597d7d31aaf9899': -1}\n",
    "aws.put_python_object_s3(bucket, 'status', dict(a))"
   ]
  },
  {
   "cell_type": "code",
   "execution_count": 59,
   "metadata": {},
   "outputs": [
    {
     "data": {
      "text/plain": [
       "'bird'"
      ]
     },
     "execution_count": 59,
     "metadata": {},
     "output_type": "execute_result"
    }
   ],
   "source": [
    "aws.get_python_object_s3(bucket,'output/2020-03-27_21-02-13.h264')"
   ]
  },
  {
   "cell_type": "code",
   "execution_count": 55,
   "metadata": {},
   "outputs": [
    {
     "data": {
      "text/plain": [
       "{'i-03f222747002d442d': -1,\n",
       " 'i-0c53a48e5ac876ecf': -1,\n",
       " 'i-017231cbb330871ed': 1,\n",
       " 'i-0f7ef001ba37a53fc': -1,\n",
       " 'i-038007690f166efc8': -1,\n",
       " 'i-09c6ccb85c393bb36': 1,\n",
       " 'i-0f5327a4feffe15d8': 1,\n",
       " 'i-03a0cc5a88c554d48': 1,\n",
       " 'i-004f91d178feb2dd9': -1}"
      ]
     },
     "execution_count": 55,
     "metadata": {},
     "output_type": "execute_result"
    }
   ],
   "source": [
    "aws.get_python_object_s3(bucket,'status')"
   ]
  },
  {
   "cell_type": "code",
   "execution_count": 53,
   "metadata": {},
   "outputs": [
    {
     "data": {
      "text/plain": [
       "True"
      ]
     },
     "execution_count": 53,
     "metadata": {},
     "output_type": "execute_result"
    }
   ],
   "source": [
    "d = {'i-017231cbb330871ed': -1,\n",
    " 'i-038007690f166efc8': -1,\n",
    " 'i-03a0cc5a88c554d48': -1,\n",
    " 'i-09c6ccb85c393bb36': -1,\n",
    " 'i-0f5327a4feffe15d8': -1,\n",
    " 'i-0c53a48e5ac876ecf': -1,\n",
    " 'i-0f7ef001ba37a53fc': -1,\n",
    " 'i-004f91d178feb2dd9': -1,\n",
    " 'i-03f222747002d442d': -1}\n",
    "aws.put_python_object_s3(bucket, 'status', d)\n"
   ]
  },
  {
   "cell_type": "code",
   "execution_count": 7,
   "metadata": {},
   "outputs": [
    {
     "name": "stdout",
     "output_type": "stream",
     "text": [
      "2020-03-19_00-38-54.h264\n",
      "2020-03-19_00-38-38.h264\n",
      "2020-03-19_00-39-43.h264\n",
      "2020-03-19_00-39-43__1.h264\n",
      "2020-03-19_00-38-38__1.h264\n",
      "2020-03-19_00-38-59.h264\n",
      "2020-03-19_00-38-59__1.h264\n",
      "2020-03-19_00-38-54__1.h264\n"
     ]
    }
   ],
   "source": [
    "os.chdir('videos')\n",
    "for file in glob.glob('*.h264'):\n",
    "    print (file)\n",
    "    aws.upload_video_s3_send_message_sqs(file, bucket, queue_url)\n",
    "os.chdir('../')"
   ]
  },
  {
   "cell_type": "code",
   "execution_count": 37,
   "metadata": {},
   "outputs": [
    {
     "data": {
      "text/plain": [
       "7"
      ]
     },
     "execution_count": 37,
     "metadata": {},
     "output_type": "execute_result"
    }
   ],
   "source": [
    "aws.get_queue_length(queue_url)"
   ]
  },
  {
   "cell_type": "code",
   "execution_count": 23,
   "metadata": {},
   "outputs": [],
   "source": [
    "os.chdir('../')"
   ]
  },
  {
   "cell_type": "code",
   "execution_count": 3,
   "metadata": {},
   "outputs": [
    {
     "data": {
      "text/plain": [
       "{'i-0912a5fdc78485f46': -1,\n",
       " 'i-017231cbb330871ed': -1,\n",
       " 'i-06597d7d31aaf9899': -1}"
      ]
     },
     "execution_count": 3,
     "metadata": {},
     "output_type": "execute_result"
    }
   ],
   "source": [
    "aws.update_instance_status('i-06597d7d31aaf9899', -1)"
   ]
  },
  {
   "cell_type": "code",
   "execution_count": 30,
   "metadata": {},
   "outputs": [
    {
     "data": {
      "text/plain": [
       "{'StartingInstances': [{'CurrentState': {'Code': 0, 'Name': 'pending'},\n",
       "   'InstanceId': 'i-017231cbb330871ed',\n",
       "   'PreviousState': {'Code': 80, 'Name': 'stopped'}}],\n",
       " 'ResponseMetadata': {'RequestId': '43e637e7-b00f-4c14-bf31-1e65569ab5c9',\n",
       "  'HTTPStatusCode': 200,\n",
       "  'HTTPHeaders': {'x-amzn-requestid': '43e637e7-b00f-4c14-bf31-1e65569ab5c9',\n",
       "   'content-type': 'text/xml;charset=UTF-8',\n",
       "   'content-length': '579',\n",
       "   'date': 'Sun, 29 Mar 2020 14:04:58 GMT',\n",
       "   'server': 'AmazonEC2'},\n",
       "  'RetryAttempts': 0}}"
      ]
     },
     "execution_count": 30,
     "metadata": {},
     "output_type": "execute_result"
    }
   ],
   "source": [
    "aws.switch_on_ec2_instance('i-017231cbb330871ed')"
   ]
  },
  {
   "cell_type": "code",
   "execution_count": 31,
   "metadata": {},
   "outputs": [
    {
     "data": {
      "text/plain": [
       "{'StoppingInstances': [{'CurrentState': {'Code': 64, 'Name': 'stopping'},\n",
       "   'InstanceId': 'i-017231cbb330871ed',\n",
       "   'PreviousState': {'Code': 16, 'Name': 'running'}}],\n",
       " 'ResponseMetadata': {'RequestId': '36a87d4c-8fb0-4046-b55e-f73195bb4772',\n",
       "  'HTTPStatusCode': 200,\n",
       "  'HTTPHeaders': {'x-amzn-requestid': '36a87d4c-8fb0-4046-b55e-f73195bb4772',\n",
       "   'content-type': 'text/xml;charset=UTF-8',\n",
       "   'content-length': '579',\n",
       "   'date': 'Sun, 29 Mar 2020 14:16:29 GMT',\n",
       "   'server': 'AmazonEC2'},\n",
       "  'RetryAttempts': 0}}"
      ]
     },
     "execution_count": 31,
     "metadata": {},
     "output_type": "execute_result"
    }
   ],
   "source": [
    "aws.switch_off_ec2_instance('i-017231cbb330871ed')"
   ]
  },
  {
   "cell_type": "code",
   "execution_count": 9,
   "metadata": {},
   "outputs": [],
   "source": [
    "out = aws.ec2_client.describe_instances()"
   ]
  },
  {
   "cell_type": "code",
   "execution_count": 21,
   "metadata": {},
   "outputs": [],
   "source": [
    "def reset_instances_status(self):\n",
    "    instance_map = {}\n",
    "    controller_id = 'i-0912a5fdc78485f46'\n",
    "    for inst in out['Reservations']:\n",
    "        for ins in inst['Instances']:\n",
    "            if(ins['InstanceId'])!=controller_id:\n",
    "                instance_map[ins['InstanceId']]=-1\n",
    "    self.update_instance_status(instance_map)"
   ]
  },
  {
   "cell_type": "code",
   "execution_count": 51,
   "metadata": {},
   "outputs": [],
   "source": [
    "aws.reset_instances_status()"
   ]
  },
  {
   "cell_type": "code",
   "execution_count": null,
   "metadata": {},
   "outputs": [],
   "source": []
  }
 ],
 "metadata": {
  "kernelspec": {
   "display_name": "Python 3",
   "language": "python",
   "name": "python3"
  },
  "language_info": {
   "codemirror_mode": {
    "name": "ipython",
    "version": 3
   },
   "file_extension": ".py",
   "mimetype": "text/x-python",
   "name": "python",
   "nbconvert_exporter": "python",
   "pygments_lexer": "ipython3",
   "version": "3.6.9"
  }
 },
 "nbformat": 4,
 "nbformat_minor": 4
}
